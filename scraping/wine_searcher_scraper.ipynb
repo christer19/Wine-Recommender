{
 "cells": [
  {
   "cell_type": "code",
   "execution_count": 1,
   "metadata": {},
   "outputs": [],
   "source": [
    "import requests\n",
    "import bs4\n",
    "from bs4 import BeautifulSoup\n",
    "import pandas as pd"
   ]
  },
  {
   "cell_type": "code",
   "execution_count": 2,
   "metadata": {},
   "outputs": [],
   "source": [
    "df = pd.read_csv('../kings_county_wines.csv',index_col=0)"
   ]
  },
  {
   "cell_type": "code",
   "execution_count": 3,
   "metadata": {},
   "outputs": [],
   "source": [
    "wines = list(df['name'])"
   ]
  },
  {
   "cell_type": "code",
   "execution_count": 4,
   "metadata": {},
   "outputs": [
    {
     "data": {
      "text/plain": [
       "['Sangria \"Limonada\" NV Palacio de Canedo',\n",
       " 'Rosso NV Paolo Palumbo',\n",
       " 'Anjou Blanc 2018 Domaine de Clayou',\n",
       " 'Pinot Noir \"Golden\" 2017 Folktale*',\n",
       " 'Shiraz HP Hydraulic Press 2016 David Franz']"
      ]
     },
     "execution_count": 4,
     "metadata": {},
     "output_type": "execute_result"
    }
   ],
   "source": [
    "wines[:5]"
   ]
  },
  {
   "cell_type": "code",
   "execution_count": 5,
   "metadata": {},
   "outputs": [],
   "source": [
    "test_wine = df['name'][1]"
   ]
  },
  {
   "cell_type": "code",
   "execution_count": 6,
   "metadata": {},
   "outputs": [
    {
     "data": {
      "text/plain": [
       "'Rosso NV Paolo Palumbo'"
      ]
     },
     "execution_count": 6,
     "metadata": {},
     "output_type": "execute_result"
    }
   ],
   "source": [
    "test_wine"
   ]
  },
  {
   "cell_type": "code",
   "execution_count": 115,
   "metadata": {},
   "outputs": [],
   "source": [
    "def getWine_info(wine_name):\n",
    "    search_terms = [x.replace('\"','')+'+' for x in wine_name.split(' ')]\n",
    "\n",
    "    wine_searcher_findURL = 'https://www.wine-searcher.com/find/'\n",
    "\n",
    "    for term in search_terms:\n",
    "        wine_searcher_findURL+=term\n",
    "    wine_searcher_findURL=wine_searcher_findURL.strip('+')\n",
    "    #print(wine_searcher_findURL)\n",
    "\n",
    "    headers = {\n",
    "        'User-Agent': \"\"\"Mozilla/5.0 (Macintosh; Intel Mac OS X 10_14_6) AppleWebKit/537.36 (KHTML, like Gecko) Chrome/79.0.3945.130 Safari/537.36\"\"\",\n",
    "        'Connection': 'keep-alive',\n",
    "        'Accept-Language': 'en-US,en;q=0.9',\n",
    "        \"Accept-Encoding\": \"gzip, deflate, br\",\n",
    "        \"Accept\": \"text/html,application/xhtml+xml,application/xml;q=0.9,image/webp,image/apng,*/*;q=0.8,application/signed-exchange;v=b3;q=0.9\",\n",
    "        'Upgrade-Insecure-Requests': '1',\n",
    "        'cookie': 'cookie_enabled=true',\n",
    "        #'referer': f'{wine_searcher_findURL}',\n",
    "        'sec-fetch-mode': 'navigate',\n",
    "        'sec-fetch-site': 'same-origin',\n",
    "        'cache-control': 'max-age=0',\n",
    "        \"sec-fetch-user\": \"?1\"\n",
    "\n",
    "\n",
    "    }\n",
    "\n",
    "    page = requests.get(wine_searcher_findURL,headers=headers)\n",
    "    #print(page)\n",
    "    bs = BeautifulSoup(page.content,'lxml')\n",
    "    try:\n",
    "        wine_info_panel = bs.find('div',attrs={\"class\":'wine-info-panel'})\n",
    "\n",
    "        wine_info = []\n",
    "        for div in wine_info_panel.find_all('div',attrs={'class':'dtc'}):\n",
    "            wine_info.append([x.getText() for x in div.find_all('span',attrs={'class':\"dtlbl sidepanel-text\"}) if type(x)==bs4.element.Tag])\n",
    "\n",
    "        wine_info = [item.split('\\n') for sublist in wine_info for item in sublist]\n",
    "\n",
    "        wine_info = [item.strip() for sublist in wine_info for item in sublist if item not in  ['',' ']]\n",
    "\n",
    "        wine_dict = {'name':wine_name}\n",
    "        wine_dict_keys = ['Region/Appellation','Grape/Blend','Food Suggestion','Wine Style','Notes']\n",
    "\n",
    "        for key in wine_dict_keys:\n",
    "            try:\n",
    "                key_index = wine_info.index(key)\n",
    "                wine_dict[key]=wine_info[key_index+1]\n",
    "            except:\n",
    "                wine_dict[key]='null'\n",
    "    except:\n",
    "        print(page,wine_searcher_findURL)\n",
    "        wine_dict=None\n",
    "    \n",
    "    return wine_dict"
   ]
  },
  {
   "cell_type": "code",
   "execution_count": 101,
   "metadata": {},
   "outputs": [
    {
     "data": {
      "text/plain": [
       "'Rosso NV Paolo Palumbo'"
      ]
     },
     "execution_count": 101,
     "metadata": {},
     "output_type": "execute_result"
    }
   ],
   "source": [
    "test_wine"
   ]
  },
  {
   "cell_type": "code",
   "execution_count": 102,
   "metadata": {},
   "outputs": [
    {
     "data": {
      "text/plain": [
       "{'name': 'Rosso NV Paolo Palumbo',\n",
       " 'Region/Appellation': 'Penisola Sorrentina Lettere',\n",
       " 'Grape/Blend': 'Aglianico - Piedirosso',\n",
       " 'Food Suggestion': 'Beef and Venison',\n",
       " 'Wine Style': 'Red - Bold and Structured',\n",
       " 'Notes': 'Indicative blend: Piedirosso, Aglianico and Sciascinoso'}"
      ]
     },
     "execution_count": 102,
     "metadata": {},
     "output_type": "execute_result"
    }
   ],
   "source": [
    "getWine_info(test_wine)"
   ]
  },
  {
   "cell_type": "code",
   "execution_count": 66,
   "metadata": {},
   "outputs": [],
   "source": [
    "wines = [wine.strip('*') for wine in wines]"
   ]
  },
  {
   "cell_type": "code",
   "execution_count": 73,
   "metadata": {},
   "outputs": [],
   "source": [
    "def chunk(n,list_to_chunk):\n",
    "    \"\"\"\n",
    "    takes in n, and a list to chunk. returns a list of lists with n length. The last chunk size may or may not \n",
    "    be equal to n. \n",
    "    \"\"\"\n",
    "    return [ list_to_chunk[i:i+n] for i in range(0,len(list_to_chunk),n) ]"
   ]
  },
  {
   "cell_type": "code",
   "execution_count": 123,
   "metadata": {},
   "outputs": [],
   "source": [
    "wine_dicts = [x for x in wine_dicts if x != None]"
   ]
  },
  {
   "cell_type": "code",
   "execution_count": 124,
   "metadata": {},
   "outputs": [],
   "source": [
    "import time"
   ]
  },
  {
   "cell_type": "code",
   "execution_count": 125,
   "metadata": {},
   "outputs": [
    {
     "name": "stdout",
     "output_type": "stream",
     "text": [
      "starting chunk 1 out of 51\n",
      "<Response [200]> https://www.wine-searcher.com/find/Catarratto+L'Isola+del+Satiro+2018+Alcesti\n",
      "<Response [200]> https://www.wine-searcher.com/find/Piccolo+Derthona+2017+Terralba\n",
      "<Response [200]> https://www.wine-searcher.com/find/Bordeaux+Rouge+Tellus+Vinea+2018+Figeac\n",
      "<Response [200]> https://www.wine-searcher.com/find/Bandol+Rouge+1.5L+2011+Châteaux+Pradeaux\n",
      "<Response [200]> https://www.wine-searcher.com/find/Lambrusco+Ancestrale+2018+Il+Folicello\n",
      "<Response [200]> https://www.wine-searcher.com/find/Champagne+Brut+Réserve+NV+Bouché+Père+et+Fils\n",
      "starting chunk 8 out of 51\n",
      "<Response [200]> https://www.wine-searcher.com/find/Refošk+Baracija+2017+Clai+Wines\n",
      "<Response [200]> https://www.wine-searcher.com/find/Vinho+Verde+Rosé+2018+Lago\n",
      "starting chunk 15 out of 51\n",
      "<Response [200]> https://www.wine-searcher.com/find/Malvasia+Baracija+2017+Clai+Wines\n",
      "<Response [200]> https://www.wine-searcher.com/find/Sauvignon+Blanc+Pouch+1.5L+Maivino\n",
      "<Response [403]> https://www.wine-searcher.com/find/Cesanese+Campo+Novo+2017+Casale+della+Ioria\n",
      "<Response [403]> https://www.wine-searcher.com/find/Vacqueyras+2017+Domaine+les+Ondines\n"
     ]
    },
    {
     "ename": "KeyboardInterrupt",
     "evalue": "",
     "output_type": "error",
     "traceback": [
      "\u001b[0;31m---------------------------------------------------------------------------\u001b[0m",
      "\u001b[0;31mKeyboardInterrupt\u001b[0m                         Traceback (most recent call last)",
      "\u001b[0;32m<ipython-input-125-57de7cba2e69>\u001b[0m in \u001b[0;36m<module>\u001b[0;34m\u001b[0m\n\u001b[1;32m      8\u001b[0m         \u001b[0mwine_dicts\u001b[0m\u001b[0;34m.\u001b[0m\u001b[0mappend\u001b[0m\u001b[0;34m(\u001b[0m\u001b[0mgetWine_info\u001b[0m\u001b[0;34m(\u001b[0m\u001b[0mwine\u001b[0m\u001b[0;34m)\u001b[0m\u001b[0;34m)\u001b[0m\u001b[0;34m\u001b[0m\u001b[0;34m\u001b[0m\u001b[0m\n\u001b[1;32m      9\u001b[0m         \u001b[0mcount\u001b[0m\u001b[0;34m+=\u001b[0m\u001b[0;36m1\u001b[0m\u001b[0;34m\u001b[0m\u001b[0;34m\u001b[0m\u001b[0m\n\u001b[0;32m---> 10\u001b[0;31m         \u001b[0mtime\u001b[0m\u001b[0;34m.\u001b[0m\u001b[0msleep\u001b[0m\u001b[0;34m(\u001b[0m\u001b[0;36m5\u001b[0m\u001b[0;34m)\u001b[0m\u001b[0;34m\u001b[0m\u001b[0;34m\u001b[0m\u001b[0m\n\u001b[0m\u001b[1;32m     11\u001b[0m \u001b[0;34m\u001b[0m\u001b[0m\n\u001b[1;32m     12\u001b[0m \u001b[0;34m\u001b[0m\u001b[0m\n",
      "\u001b[0;31mKeyboardInterrupt\u001b[0m: "
     ]
    }
   ],
   "source": [
    "already_added = {x['name'] for x in wine_dicts}\n",
    "wines_toAdd = list(set(wines)-already_added)\n",
    "count = 1\n",
    "wine_chunks = chunk(7,wines_toAdd)\n",
    "for wine_chunk in wine_chunks:\n",
    "    print(f\"starting chunk {count} out of {len(wine_chunks)}\")\n",
    "    for wine in wine_chunk:\n",
    "        wine_dicts.append(getWine_info(wine))\n",
    "        count+=1\n",
    "        time.sleep(5)\n",
    "    \n",
    "    "
   ]
  },
  {
   "cell_type": "code",
   "execution_count": 126,
   "metadata": {},
   "outputs": [
    {
     "data": {
      "text/plain": [
       "[{'name': 'Sangria \"Limonada\" NV Palacio de Canedo',\n",
       "  'Region/Appellation': 'Castilla y Leon',\n",
       "  'Grape/Blend': 'Mencia',\n",
       "  'Food Suggestion': 'Lamb',\n",
       "  'Wine Style': 'Red - Rich and Intense',\n",
       "  'Notes': 'null'},\n",
       " {'name': 'Rosso NV Paolo Palumbo',\n",
       "  'Region/Appellation': 'Penisola Sorrentina Lettere',\n",
       "  'Grape/Blend': 'Aglianico - Piedirosso',\n",
       "  'Food Suggestion': 'Beef and Venison',\n",
       "  'Wine Style': 'Red - Bold and Structured',\n",
       "  'Notes': 'Indicative blend: Piedirosso, Aglianico and Sciascinoso'},\n",
       " {'name': 'Anjou Blanc 2018 Domaine de Clayou',\n",
       "  'Region/Appellation': 'Anjou',\n",
       "  'Grape/Blend': 'Chenin Blanc',\n",
       "  'Food Suggestion': 'null',\n",
       "  'Wine Style': 'null',\n",
       "  'Notes': 'null'},\n",
       " {'name': 'Pinot Noir \"Golden\" 2017 Folktale',\n",
       "  'Region/Appellation': 'Monterey County',\n",
       "  'Grape/Blend': 'Pinot Noir',\n",
       "  'Food Suggestion': 'Chicken and Turkey',\n",
       "  'Wine Style': 'Red - Light and Perfumed',\n",
       "  'Notes': 'null'},\n",
       " {'name': 'Shiraz HP Hydraulic Press 2016 David Franz',\n",
       "  'Region/Appellation': 'Barossa',\n",
       "  'Grape/Blend': 'Shiraz',\n",
       "  'Food Suggestion': 'Beef and Venison',\n",
       "  'Wine Style': 'Red - Rich and Intense',\n",
       "  'Notes': 'null'},\n",
       " {'name': 'Chenin Blanc \"First Light\" 2018 Remhoogte',\n",
       "  'Region/Appellation': 'Stellenbosch',\n",
       "  'Grape/Blend': 'Chenin Blanc',\n",
       "  'Food Suggestion': 'Cheddar and Gruyere',\n",
       "  'Wine Style': 'White - Buttery and Complex',\n",
       "  'Notes': 'null'},\n",
       " {'name': 'Le Pinot Noir 2017 Saint Verny Vignobles',\n",
       "  'Region/Appellation': 'IGP Puy-de-Dome',\n",
       "  'Grape/Blend': 'Pinot Noir',\n",
       "  'Food Suggestion': 'Chicken and Turkey',\n",
       "  'Wine Style': 'Red - Light and Perfumed',\n",
       "  'Notes': 'null'},\n",
       " {'name': 'Riesling Watervale 2018 Koerner',\n",
       "  'Region/Appellation': 'Clare Valley',\n",
       "  'Grape/Blend': 'Riesling',\n",
       "  'Food Suggestion': 'White Fish',\n",
       "  'Wine Style': 'White - Green and Flinty',\n",
       "  'Notes': 'null'},\n",
       " {'name': 'Champagne Silver Brut Nature NV Andre Clouet',\n",
       "  'Region/Appellation': 'Champagne Brut Nature - Zero',\n",
       "  'Grape/Blend': 'Pinot Noir',\n",
       "  'Food Suggestion': 'Shellfish, Crab and Lobster',\n",
       "  'Wine Style': 'Sparkling - Complex and Traditional',\n",
       "  'Notes': 'null'},\n",
       " {'name': 'Riesling Fass 2 Extra Trocken 2018 Lauer',\n",
       "  'Region/Appellation': 'Saar',\n",
       "  'Grape/Blend': 'Riesling',\n",
       "  'Food Suggestion': 'White Fish',\n",
       "  'Wine Style': 'White - Green and Flinty',\n",
       "  'Notes': 'null'},\n",
       " {'name': 'Tinto 2017 La Posta',\n",
       "  'Region/Appellation': 'Mendoza',\n",
       "  'Grape/Blend': 'Bonarda  -  Malbec',\n",
       "  'Food Suggestion': 'Beef and Venison',\n",
       "  'Wine Style': 'Red - Rich and Intense',\n",
       "  'Notes': 'Indicative blend:Malbec, Bonarda and Syrah.'},\n",
       " {'name': 'Primo Segno 2015 Villa Venti',\n",
       "  'Region/Appellation': 'Romagna',\n",
       "  'Grape/Blend': 'Sangiovese',\n",
       "  'Food Suggestion': 'null',\n",
       "  'Wine Style': 'null',\n",
       "  'Notes': 'null'},\n",
       " {'name': 'Barolo 2015 Fletcher',\n",
       "  'Region/Appellation': 'Barolo',\n",
       "  'Grape/Blend': 'Nebbiolo',\n",
       "  'Food Suggestion': 'Lamb',\n",
       "  'Wine Style': 'Red - Savory and Classic',\n",
       "  'Notes': 'null'},\n",
       " {'name': 'Fiano Trentenare 2018 San Salvatore',\n",
       "  'Region/Appellation': 'Paestum IGT',\n",
       "  'Grape/Blend': 'Fiano',\n",
       "  'Food Suggestion': 'White Fish',\n",
       "  'Wine Style': 'White - Tropical and Balanced',\n",
       "  'Notes': 'null'},\n",
       " {'name': 'Riesling Trocken 2018 Peter Jakob Kuhn',\n",
       "  'Region/Appellation': 'Rheingau',\n",
       "  'Grape/Blend': 'Riesling',\n",
       "  'Food Suggestion': 'White Fish',\n",
       "  'Wine Style': 'White - Green and Flinty',\n",
       "  'Notes': 'null'},\n",
       " {'name': 'Syrah 2016 Kunin',\n",
       "  'Region/Appellation': 'Santa Barbara County',\n",
       "  'Grape/Blend': 'Syrah',\n",
       "  'Food Suggestion': 'Lamb',\n",
       "  'Wine Style': 'Red - Rich and Intense',\n",
       "  'Notes': 'null'},\n",
       " {'name': 'Reserve Chardonnay 2015 Lemelson',\n",
       "  'Region/Appellation': 'Willamette Valley',\n",
       "  'Grape/Blend': 'Chardonnay',\n",
       "  'Food Suggestion': 'Mushrooms',\n",
       "  'Wine Style': 'White - Buttery and Complex',\n",
       "  'Notes': 'null'},\n",
       " {'name': 'Minervois Blanc \"Champ du Roy\" 2018 Coupe-Roses',\n",
       "  'Region/Appellation': \"IGP Pays d'Herault Cotes du Brian\",\n",
       "  'Grape/Blend': 'Rare White Blend',\n",
       "  'Food Suggestion': 'Chicken and Turkey',\n",
       "  'Wine Style': 'White - Tropical and Balanced',\n",
       "  'Notes': 'null'},\n",
       " {'name': 'Pais Viejo 2018 J. Bouchon',\n",
       "  'Region/Appellation': 'Maule Valley',\n",
       "  'Grape/Blend': 'Pais (Mission)',\n",
       "  'Food Suggestion': 'Beef and Venison',\n",
       "  'Wine Style': 'Red - Bold and Structured',\n",
       "  'Notes': 'null'},\n",
       " {'name': 'Pinotage 2017 Lammershoek',\n",
       "  'Region/Appellation': 'Swartland',\n",
       "  'Grape/Blend': 'Pinotage',\n",
       "  'Food Suggestion': 'Beef and Venison',\n",
       "  'Wine Style': 'Red - Rich and Intense',\n",
       "  'Notes': 'null'},\n",
       " {'name': 'Barbaresco Serraboella 2015 Paitin',\n",
       "  'Region/Appellation': 'Barbaresco',\n",
       "  'Grape/Blend': 'Nebbiolo',\n",
       "  'Food Suggestion': 'Lamb',\n",
       "  'Wine Style': 'Red - Savory and Classic',\n",
       "  'Notes': 'null'},\n",
       " {'name': 'Vermentino 2019 Wits End',\n",
       "  'Region/Appellation': 'McLaren Vale',\n",
       "  'Grape/Blend': 'Vermentino (Rolle)',\n",
       "  'Food Suggestion': 'Cheddar and Gruyere',\n",
       "  'Wine Style': 'White - Tropical and Balanced',\n",
       "  'Notes': 'null'},\n",
       " {'name': 'Pinot Noir 2017 Illahe Vineyards',\n",
       "  'Region/Appellation': 'Willamette Valley',\n",
       "  'Grape/Blend': 'Pinot Noir',\n",
       "  'Food Suggestion': 'Chicken and Turkey',\n",
       "  'Wine Style': 'Red - Light and Perfumed',\n",
       "  'Notes': 'null'},\n",
       " {'name': 'Tai Rosso 2018 Rezzadore',\n",
       "  'Region/Appellation': 'Colli Berici',\n",
       "  'Grape/Blend': 'Grenache (Garnacha)',\n",
       "  'Food Suggestion': 'Beef and Venison',\n",
       "  'Wine Style': 'Red - Rich and Intense',\n",
       "  'Notes': 'null'},\n",
       " None,\n",
       " None,\n",
       " None,\n",
       " None,\n",
       " None,\n",
       " {'name': 'Grenache Hook 2017 Santa Cruz Mountain Vineyards',\n",
       "  'Region/Appellation': 'Santa Lucia Highlands',\n",
       "  'Grape/Blend': 'Grenache (Garnacha)',\n",
       "  'Food Suggestion': 'Lamb',\n",
       "  'Wine Style': 'Red - Rich and Intense',\n",
       "  'Notes': 'null'},\n",
       " None,\n",
       " {'name': 'Pagliaro Sagrantino Secco di Montefalco 2012 Paolo Bea',\n",
       "  'Region/Appellation': 'Montefalco Sagrantino',\n",
       "  'Grape/Blend': 'Sagrantino',\n",
       "  'Food Suggestion': 'Beef and Venison',\n",
       "  'Wine Style': 'Red - Bold and Structured',\n",
       "  'Notes': 'null'},\n",
       " {'name': 'Elbling Sekt NV Hild',\n",
       "  'Region/Appellation': 'Mosel',\n",
       "  'Grape/Blend': 'Elbling',\n",
       "  'Food Suggestion': 'Meaty and Oily Fish',\n",
       "  'Wine Style': 'Sparkling - Fresh and Youthful',\n",
       "  'Notes': 'null'},\n",
       " None,\n",
       " {'name': 'Kosher Sauvignon Blanc 2019 Terra Vega',\n",
       "  'Region/Appellation': 'Central Valley - Chile',\n",
       "  'Grape/Blend': 'Sauvignon Blanc',\n",
       "  'Food Suggestion': 'Salads and Green Vegetables',\n",
       "  'Wine Style': 'White - Green and Flinty',\n",
       "  'Notes': 'Kosher'},\n",
       " {'name': 'Cabernet Sauvignon 2017 The Fableist',\n",
       "  'Region/Appellation': 'Paso Robles',\n",
       "  'Grape/Blend': 'Cabernet Sauvignon',\n",
       "  'Food Suggestion': 'Beef and Venison',\n",
       "  'Wine Style': 'Red - Bold and Structured',\n",
       "  'Notes': 'Formerly this wine was labeled as Cane and Fable 373. Indicative blend: Cabernet Sauvignon with a small amount of Tempranillo and Petit Verdot.'},\n",
       " {'name': 'Kosher Grüner Veltliner 2016 Queen Esther',\n",
       "  'Region/Appellation': 'Austria',\n",
       "  'Grape/Blend': 'Gruner Veltliner',\n",
       "  'Food Suggestion': 'White Fish',\n",
       "  'Wine Style': 'White - Green and Flinty',\n",
       "  'Notes': 'null'},\n",
       " None,\n",
       " None,\n",
       " {'name': 'Monastrell 2015 Castillo de Jumilla',\n",
       "  'Region/Appellation': 'Jumilla',\n",
       "  'Grape/Blend': 'Mourvedre (Monastrell)',\n",
       "  'Food Suggestion': 'Lamb',\n",
       "  'Wine Style': 'Red - Rich and Intense',\n",
       "  'Notes': 'null'},\n",
       " {'name': 'Barolo Brea 2013 Brovia',\n",
       "  'Region/Appellation': 'Barolo',\n",
       "  'Grape/Blend': 'Nebbiolo',\n",
       "  'Food Suggestion': 'Lamb',\n",
       "  'Wine Style': 'Red - Savory and Classic',\n",
       "  'Notes': \"Formerly known as Brovia Ca' Mia.\"},\n",
       " {'name': \"Barbera d'Asti Ruleja 2009 Montegrosso\",\n",
       "  'Region/Appellation': \"Barbera d'Asti\",\n",
       "  'Grape/Blend': 'Barbera',\n",
       "  'Food Suggestion': 'Duck, Goose and Game Birds',\n",
       "  'Wine Style': 'Red - Savory and Classic',\n",
       "  'Notes': 'null'},\n",
       " None,\n",
       " None,\n",
       " None]"
      ]
     },
     "execution_count": 126,
     "metadata": {},
     "output_type": "execute_result"
    }
   ],
   "source": [
    "wine_dicts"
   ]
  },
  {
   "cell_type": "code",
   "execution_count": 129,
   "metadata": {},
   "outputs": [],
   "source": [
    "df = pd.DataFrame.from_records([x for x in wine_dicts if x != None])"
   ]
  },
  {
   "cell_type": "code",
   "execution_count": 132,
   "metadata": {},
   "outputs": [],
   "source": [
    "df.to_csv('wine_searcher_data.csv')"
   ]
  },
  {
   "cell_type": "code",
   "execution_count": null,
   "metadata": {},
   "outputs": [],
   "source": []
  }
 ],
 "metadata": {
  "kernelspec": {
   "display_name": "Python 3",
   "language": "python",
   "name": "python3"
  },
  "language_info": {
   "codemirror_mode": {
    "name": "ipython",
    "version": 3
   },
   "file_extension": ".py",
   "mimetype": "text/x-python",
   "name": "python",
   "nbconvert_exporter": "python",
   "pygments_lexer": "ipython3",
   "version": "3.7.3"
  }
 },
 "nbformat": 4,
 "nbformat_minor": 4
}
