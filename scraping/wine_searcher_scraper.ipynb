{
 "cells": [
  {
   "cell_type": "code",
   "execution_count": 1,
   "metadata": {},
   "outputs": [],
   "source": [
    "import requests\n",
    "import bs4\n",
    "from bs4 import BeautifulSoup\n",
    "import pandas as pd"
   ]
  },
  {
   "cell_type": "code",
   "execution_count": 2,
   "metadata": {},
   "outputs": [],
   "source": [
    "df = pd.read_csv('../kings_county_wines.csv',index_col=0)"
   ]
  },
  {
   "cell_type": "code",
   "execution_count": 3,
   "metadata": {},
   "outputs": [],
   "source": [
    "wines = list(df['name'])"
   ]
  },
  {
   "cell_type": "code",
   "execution_count": 4,
   "metadata": {},
   "outputs": [
    {
     "data": {
      "text/plain": [
       "['Sangria \"Limonada\" NV Palacio de Canedo',\n",
       " 'Rosso NV Paolo Palumbo',\n",
       " 'Anjou Blanc 2018 Domaine de Clayou',\n",
       " 'Pinot Noir \"Golden\" 2017 Folktale*',\n",
       " 'Shiraz HP Hydraulic Press 2016 David Franz']"
      ]
     },
     "execution_count": 4,
     "metadata": {},
     "output_type": "execute_result"
    }
   ],
   "source": [
    "wines[:5]"
   ]
  },
  {
   "cell_type": "code",
   "execution_count": 5,
   "metadata": {},
   "outputs": [],
   "source": [
    "test_wine = df['name'][1]"
   ]
  },
  {
   "cell_type": "code",
   "execution_count": 6,
   "metadata": {},
   "outputs": [
    {
     "data": {
      "text/plain": [
       "'Rosso NV Paolo Palumbo'"
      ]
     },
     "execution_count": 6,
     "metadata": {},
     "output_type": "execute_result"
    }
   ],
   "source": [
    "test_wine"
   ]
  },
  {
   "cell_type": "code",
   "execution_count": 68,
   "metadata": {},
   "outputs": [],
   "source": [
    "def getWine_info(wine_name):\n",
    "    search_terms = [x.replace('\"','')+'+' for x in wine_name.split(' ')]\n",
    "\n",
    "    wine_searcher_findURL = 'https://www.wine-searcher.com/find/'\n",
    "\n",
    "    for term in search_terms:\n",
    "        wine_searcher_findURL+=term\n",
    "    wine_searcher_findURL=wine_searcher_findURL.strip('+')\n",
    "    print(wine_searcher_findURL)\n",
    "\n",
    "    headers = {\n",
    "        'User-Agent': \"\"\"Mozilla/5.0 (Macintosh; Intel Mac OS X 10_14_6) AppleWebKit/537.36 (KHTML, like Gecko) Chrome/79.0.3945.130 Safari/537.36\"\"\",\n",
    "        'Connection': 'keep-alive',\n",
    "        'Accept-Language': 'en-US,en;q=0.9',\n",
    "        \"Accept-Encoding\": \"gzip, deflate, br\",\n",
    "        \"Accept\": \"text/html,application/xhtml+xml,application/xml;q=0.9,image/webp,image/apng,*/*;q=0.8,application/signed-exchange;v=b3;q=0.9\",\n",
    "        'Upgrade-Insecure-Requests': '1',\n",
    "        'cookie': 'cookie_enabled=false',\n",
    "        'referer': 'https://www.wine-searcher.com/',\n",
    "        'sec-fetch-mode': 'navigate',\n",
    "        'sec-fetch-site': 'same-origin',\n",
    "        'cache-control': 'max-age=0',\n",
    "        \"sec-fetch-user\": \"?1\"\n",
    "\n",
    "\n",
    "    }\n",
    "\n",
    "    page = requests.get(wine_searcher_findURL,headers=headers)\n",
    "    print(page)\n",
    "    bs = BeautifulSoup(page.content,'lxml')\n",
    "\n",
    "    wine_info_panel = bs.find('div',attrs={\"class\":'wine-info-panel'})\n",
    "\n",
    "    wine_info = []\n",
    "    for div in wine_info_panel.find_all('div',attrs={'class':'dtc'}):\n",
    "        wine_info.append([x.getText() for x in div.find_all('span',attrs={'class':\"dtlbl sidepanel-text\"}) if type(x)==bs4.element.Tag])\n",
    "\n",
    "    wine_info = [item.split('\\n') for sublist in wine_info for item in sublist]\n",
    "\n",
    "    wine_info = [item.strip() for sublist in wine_info for item in sublist if item not in  ['',' ']]\n",
    "\n",
    "    wine_dict = {'name':wine_name}\n",
    "    wine_dict_keys = ['Region/Appellation','Grape/Blend','Food Suggestion','Wine Style','Notes']\n",
    "\n",
    "    for key in wine_dict_keys:\n",
    "        try:\n",
    "            key_index = wine_info.index(key)\n",
    "            wine_dict[key]=wine_info[key_index+1]\n",
    "        except:\n",
    "            wine_dict[key]='null'\n",
    "    \n",
    "    return wine_dict"
   ]
  },
  {
   "cell_type": "code",
   "execution_count": 65,
   "metadata": {},
   "outputs": [
    {
     "data": {
      "text/plain": [
       "'Rosso NV Paolo Palumbo'"
      ]
     },
     "execution_count": 65,
     "metadata": {},
     "output_type": "execute_result"
    }
   ],
   "source": [
    "test_wine"
   ]
  },
  {
   "cell_type": "code",
   "execution_count": 61,
   "metadata": {},
   "outputs": [
    {
     "name": "stdout",
     "output_type": "stream",
     "text": [
      "https://www.wine-searcher.com/find/Rosso+NV+Paolo+Palumbo\n",
      "<Response [200]>\n"
     ]
    },
    {
     "data": {
      "text/plain": [
       "{'name': 'Rosso NV Paolo Palumbo',\n",
       " 'Region/Appellation': 'Penisola Sorrentina Lettere',\n",
       " 'Grape/Blend': 'Aglianico - Piedirosso',\n",
       " 'Food Suggestion': 'Beef and Venison',\n",
       " 'Wine Style': 'Red - Bold and Structured'}"
      ]
     },
     "execution_count": 61,
     "metadata": {},
     "output_type": "execute_result"
    }
   ],
   "source": [
    "getWine_info(test_wine)"
   ]
  },
  {
   "cell_type": "code",
   "execution_count": 66,
   "metadata": {},
   "outputs": [],
   "source": [
    "wines = [wine.strip('*') for wine in wines]"
   ]
  },
  {
   "cell_type": "code",
   "execution_count": 69,
   "metadata": {},
   "outputs": [
    {
     "name": "stdout",
     "output_type": "stream",
     "text": [
      "https://www.wine-searcher.com/find/Sangria+Limonada+NV+Palacio+de+Canedo\n",
      "<Response [200]>\n",
      "https://www.wine-searcher.com/find/Rosso+NV+Paolo+Palumbo\n",
      "<Response [200]>\n",
      "https://www.wine-searcher.com/find/Anjou+Blanc+2018+Domaine+de+Clayou\n",
      "<Response [200]>\n",
      "https://www.wine-searcher.com/find/Pinot+Noir+Golden+2017+Folktale\n",
      "<Response [200]>\n",
      "https://www.wine-searcher.com/find/Shiraz+HP+Hydraulic+Press+2016+David+Franz\n",
      "<Response [200]>\n"
     ]
    }
   ],
   "source": [
    "wine_dicts = []\n",
    "for wine in wines[:5]:\n",
    "\n",
    "    wine_dicts.append(getWine_info(wine))\n",
    "    \n",
    "    "
   ]
  },
  {
   "cell_type": "code",
   "execution_count": 70,
   "metadata": {},
   "outputs": [
    {
     "data": {
      "text/plain": [
       "[{'name': 'Sangria \"Limonada\" NV Palacio de Canedo',\n",
       "  'Region/Appellation': 'Castilla y Leon',\n",
       "  'Grape/Blend': 'Mencia',\n",
       "  'Food Suggestion': 'Lamb',\n",
       "  'Wine Style': 'Red - Rich and Intense',\n",
       "  'Notes': 'null'},\n",
       " {'name': 'Rosso NV Paolo Palumbo',\n",
       "  'Region/Appellation': 'Penisola Sorrentina Lettere',\n",
       "  'Grape/Blend': 'Aglianico - Piedirosso',\n",
       "  'Food Suggestion': 'Beef and Venison',\n",
       "  'Wine Style': 'Red - Bold and Structured',\n",
       "  'Notes': 'Indicative blend: Piedirosso, Aglianico and Sciascinoso'},\n",
       " {'name': 'Anjou Blanc 2018 Domaine de Clayou',\n",
       "  'Region/Appellation': 'Anjou',\n",
       "  'Grape/Blend': 'Chenin Blanc',\n",
       "  'Food Suggestion': 'null',\n",
       "  'Wine Style': 'null',\n",
       "  'Notes': 'null'},\n",
       " {'name': 'Pinot Noir \"Golden\" 2017 Folktale',\n",
       "  'Region/Appellation': 'Monterey County',\n",
       "  'Grape/Blend': 'Pinot Noir',\n",
       "  'Food Suggestion': 'Chicken and Turkey',\n",
       "  'Wine Style': 'Red - Light and Perfumed',\n",
       "  'Notes': 'null'},\n",
       " {'name': 'Shiraz HP Hydraulic Press 2016 David Franz',\n",
       "  'Region/Appellation': 'Barossa',\n",
       "  'Grape/Blend': 'Shiraz',\n",
       "  'Food Suggestion': 'Beef and Venison',\n",
       "  'Wine Style': 'Red - Rich and Intense',\n",
       "  'Notes': 'null'}]"
      ]
     },
     "execution_count": 70,
     "metadata": {},
     "output_type": "execute_result"
    }
   ],
   "source": [
    "wine_dicts"
   ]
  },
  {
   "cell_type": "code",
   "execution_count": null,
   "metadata": {},
   "outputs": [],
   "source": []
  }
 ],
 "metadata": {
  "kernelspec": {
   "display_name": "Python 3",
   "language": "python",
   "name": "python3"
  },
  "language_info": {
   "codemirror_mode": {
    "name": "ipython",
    "version": 3
   },
   "file_extension": ".py",
   "mimetype": "text/x-python",
   "name": "python",
   "nbconvert_exporter": "python",
   "pygments_lexer": "ipython3",
   "version": "3.7.3"
  }
 },
 "nbformat": 4,
 "nbformat_minor": 4
}
