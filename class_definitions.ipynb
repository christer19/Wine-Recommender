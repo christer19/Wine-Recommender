{
 "cells": [
  {
   "cell_type": "markdown",
   "metadata": {},
   "source": [
    "- Create a \"Wine\" class that will be used to represent each wine\n",
    "- attributes:\n",
    "    - search terms\n",
    "    - size\n",
    "    - vintage\n",
    "    - grape\n",
    "    - region\n",
    "    - country \n",
    "    - producer\n",
    "    - style (white/red)\n",
    "    - time added, time changed if applicible (how can I keep track of changes?)\n",
    "    - tasting notes\n",
    "    - food pairings\n",
    "    - KCW staff pick\n",
    "- functions:\n",
    "    - scraping functions to add attributes\n",
    "    - find similar wines (opportunity for modeling)\n",
    "    - stretch goal: purchase wine function (wooooaahhh)"
   ]
  },
  {
   "cell_type": "code",
   "execution_count": 1,
   "metadata": {},
   "outputs": [],
   "source": [
    "import pandas as pd"
   ]
  },
  {
   "cell_type": "code",
   "execution_count": 2,
   "metadata": {},
   "outputs": [],
   "source": [
    "df = pd.read_csv('kings_county_wines.csv',index_col=0)"
   ]
  },
  {
   "cell_type": "code",
   "execution_count": 3,
   "metadata": {},
   "outputs": [
    {
     "data": {
      "text/html": [
       "<div>\n",
       "<style scoped>\n",
       "    .dataframe tbody tr th:only-of-type {\n",
       "        vertical-align: middle;\n",
       "    }\n",
       "\n",
       "    .dataframe tbody tr th {\n",
       "        vertical-align: top;\n",
       "    }\n",
       "\n",
       "    .dataframe thead th {\n",
       "        text-align: right;\n",
       "    }\n",
       "</style>\n",
       "<table border=\"1\" class=\"dataframe\">\n",
       "  <thead>\n",
       "    <tr style=\"text-align: right;\">\n",
       "      <th></th>\n",
       "      <th>name</th>\n",
       "      <th>link</th>\n",
       "      <th>price</th>\n",
       "      <th>description</th>\n",
       "      <th>date_collected</th>\n",
       "      <th>image_link</th>\n",
       "      <th>in_stock</th>\n",
       "      <th>details</th>\n",
       "    </tr>\n",
       "  </thead>\n",
       "  <tbody>\n",
       "    <tr>\n",
       "      <td>0</td>\n",
       "      <td>Sangria \"Limonada\" NV Palacio de Canedo</td>\n",
       "      <td>https://www.kingscountywines.com/sangria-limon...</td>\n",
       "      <td>14.99</td>\n",
       "      <td>Cinnamon &amp; lemons &amp; oranges &amp; mencia. A natura...</td>\n",
       "      <td>2020-02-05 14:35:30.639523</td>\n",
       "      <td>https://cdn.shoplightspeed.com/shops/603808/fi...</td>\n",
       "      <td>In stock</td>\n",
       "      <td>NaN</td>\n",
       "    </tr>\n",
       "    <tr>\n",
       "      <td>1</td>\n",
       "      <td>Rosso NV Paolo Palumbo</td>\n",
       "      <td>https://www.kingscountywines.com/rosso-2016-pa...</td>\n",
       "      <td>12.99</td>\n",
       "      <td>Soft and supple. The OG Neapolitan pizza wine.</td>\n",
       "      <td>2020-02-05 14:35:30.842275</td>\n",
       "      <td>https://cdn.shoplightspeed.com/shops/603808/fi...</td>\n",
       "      <td>In stock</td>\n",
       "      <td>NaN</td>\n",
       "    </tr>\n",
       "    <tr>\n",
       "      <td>2</td>\n",
       "      <td>Anjou Blanc 2018 Domaine de Clayou</td>\n",
       "      <td>https://www.kingscountywines.com/anjou-blanc-2...</td>\n",
       "      <td>14.99</td>\n",
       "      <td>Dry chenin. Orange flower, wintergreen, yellow...</td>\n",
       "      <td>2020-02-05 14:35:31.111292</td>\n",
       "      <td>https://cdn.shoplightspeed.com/shops/603808/fi...</td>\n",
       "      <td>In stock</td>\n",
       "      <td>NaN</td>\n",
       "    </tr>\n",
       "    <tr>\n",
       "      <td>3</td>\n",
       "      <td>Pinot Noir \"Golden\" 2017 Folktale*</td>\n",
       "      <td>https://www.kingscountywines.com/pinot-noir-20...</td>\n",
       "      <td>16.99</td>\n",
       "      <td>Estate fruit pinot noir, not too chunky, very ...</td>\n",
       "      <td>2020-02-05 14:35:31.302038</td>\n",
       "      <td>https://cdn.shoplightspeed.com/shops/603808/fi...</td>\n",
       "      <td>In stock</td>\n",
       "      <td>NaN</td>\n",
       "    </tr>\n",
       "    <tr>\n",
       "      <td>4</td>\n",
       "      <td>Shiraz HP Hydraulic Press 2016 David Franz</td>\n",
       "      <td>https://www.kingscountywines.com/shiraz-h-p-20...</td>\n",
       "      <td>25.99</td>\n",
       "      <td>Classic bold flavors; rare delicacy. Meaty, pl...</td>\n",
       "      <td>2020-02-05 14:35:31.522531</td>\n",
       "      <td>https://cdn.shoplightspeed.com/shops/603808/fi...</td>\n",
       "      <td>In stock</td>\n",
       "      <td>NaN</td>\n",
       "    </tr>\n",
       "  </tbody>\n",
       "</table>\n",
       "</div>"
      ],
      "text/plain": [
       "                                         name  \\\n",
       "0     Sangria \"Limonada\" NV Palacio de Canedo   \n",
       "1                      Rosso NV Paolo Palumbo   \n",
       "2          Anjou Blanc 2018 Domaine de Clayou   \n",
       "3          Pinot Noir \"Golden\" 2017 Folktale*   \n",
       "4  Shiraz HP Hydraulic Press 2016 David Franz   \n",
       "\n",
       "                                                link  price  \\\n",
       "0  https://www.kingscountywines.com/sangria-limon...  14.99   \n",
       "1  https://www.kingscountywines.com/rosso-2016-pa...  12.99   \n",
       "2  https://www.kingscountywines.com/anjou-blanc-2...  14.99   \n",
       "3  https://www.kingscountywines.com/pinot-noir-20...  16.99   \n",
       "4  https://www.kingscountywines.com/shiraz-h-p-20...  25.99   \n",
       "\n",
       "                                         description  \\\n",
       "0  Cinnamon & lemons & oranges & mencia. A natura...   \n",
       "1     Soft and supple. The OG Neapolitan pizza wine.   \n",
       "2  Dry chenin. Orange flower, wintergreen, yellow...   \n",
       "3  Estate fruit pinot noir, not too chunky, very ...   \n",
       "4  Classic bold flavors; rare delicacy. Meaty, pl...   \n",
       "\n",
       "               date_collected  \\\n",
       "0  2020-02-05 14:35:30.639523   \n",
       "1  2020-02-05 14:35:30.842275   \n",
       "2  2020-02-05 14:35:31.111292   \n",
       "3  2020-02-05 14:35:31.302038   \n",
       "4  2020-02-05 14:35:31.522531   \n",
       "\n",
       "                                          image_link  in_stock details  \n",
       "0  https://cdn.shoplightspeed.com/shops/603808/fi...  In stock     NaN  \n",
       "1  https://cdn.shoplightspeed.com/shops/603808/fi...  In stock     NaN  \n",
       "2  https://cdn.shoplightspeed.com/shops/603808/fi...  In stock     NaN  \n",
       "3  https://cdn.shoplightspeed.com/shops/603808/fi...  In stock     NaN  \n",
       "4  https://cdn.shoplightspeed.com/shops/603808/fi...  In stock     NaN  "
      ]
     },
     "execution_count": 3,
     "metadata": {},
     "output_type": "execute_result"
    }
   ],
   "source": [
    "df.head()"
   ]
  },
  {
   "cell_type": "code",
   "execution_count": 4,
   "metadata": {},
   "outputs": [
    {
     "data": {
      "text/plain": [
       "Index(['name', 'link', 'price', 'description', 'date_collected', 'image_link',\n",
       "       'in_stock', 'details'],\n",
       "      dtype='object')"
      ]
     },
     "execution_count": 4,
     "metadata": {},
     "output_type": "execute_result"
    }
   ],
   "source": [
    "df.columns"
   ]
  },
  {
   "cell_type": "code",
   "execution_count": 53,
   "metadata": {},
   "outputs": [
    {
     "data": {
      "text/html": [
       "<div>\n",
       "<style scoped>\n",
       "    .dataframe tbody tr th:only-of-type {\n",
       "        vertical-align: middle;\n",
       "    }\n",
       "\n",
       "    .dataframe tbody tr th {\n",
       "        vertical-align: top;\n",
       "    }\n",
       "\n",
       "    .dataframe thead th {\n",
       "        text-align: right;\n",
       "    }\n",
       "</style>\n",
       "<table border=\"1\" class=\"dataframe\">\n",
       "  <thead>\n",
       "    <tr style=\"text-align: right;\">\n",
       "      <th></th>\n",
       "      <th>name</th>\n",
       "      <th>link</th>\n",
       "      <th>price</th>\n",
       "      <th>description</th>\n",
       "      <th>date_collected</th>\n",
       "      <th>image_link</th>\n",
       "      <th>in_stock</th>\n",
       "      <th>details</th>\n",
       "    </tr>\n",
       "  </thead>\n",
       "  <tbody>\n",
       "    <tr>\n",
       "      <td>4</td>\n",
       "      <td>Shiraz HP Hydraulic Press 2016 David Franz</td>\n",
       "      <td>https://www.kingscountywines.com/shiraz-h-p-20...</td>\n",
       "      <td>25.99</td>\n",
       "      <td>Classic bold flavors; rare delicacy. Meaty, pl...</td>\n",
       "      <td>2020-02-05 14:35:31.522531</td>\n",
       "      <td>https://cdn.shoplightspeed.com/shops/603808/fi...</td>\n",
       "      <td>In stock</td>\n",
       "      <td>NaN</td>\n",
       "    </tr>\n",
       "  </tbody>\n",
       "</table>\n",
       "</div>"
      ],
      "text/plain": [
       "                                         name  \\\n",
       "4  Shiraz HP Hydraulic Press 2016 David Franz   \n",
       "\n",
       "                                                link  price  \\\n",
       "4  https://www.kingscountywines.com/shiraz-h-p-20...  25.99   \n",
       "\n",
       "                                         description  \\\n",
       "4  Classic bold flavors; rare delicacy. Meaty, pl...   \n",
       "\n",
       "               date_collected  \\\n",
       "4  2020-02-05 14:35:31.522531   \n",
       "\n",
       "                                          image_link  in_stock details  \n",
       "4  https://cdn.shoplightspeed.com/shops/603808/fi...  In stock     NaN  "
      ]
     },
     "execution_count": 53,
     "metadata": {},
     "output_type": "execute_result"
    }
   ],
   "source": [
    "df.loc[df['name']=='Shiraz HP Hydraulic Press 2016 David Franz']"
   ]
  },
  {
   "cell_type": "code",
   "execution_count": 6,
   "metadata": {},
   "outputs": [],
   "source": [
    "from datetime import datetime as dt"
   ]
  },
  {
   "cell_type": "code",
   "execution_count": 8,
   "metadata": {},
   "outputs": [
    {
     "data": {
      "text/plain": [
       "datetime.datetime(2020, 2, 6, 12, 34, 15, 144263)"
      ]
     },
     "execution_count": 8,
     "metadata": {},
     "output_type": "execute_result"
    }
   ],
   "source": [
    "dt.now()"
   ]
  },
  {
   "cell_type": "markdown",
   "metadata": {},
   "source": [
    "An instance of the Wine class will be instantiated from the KCW csv that's scraped from their site. \n",
    "\n",
    "Maybe we should have a seperate class that gets instantiated if a wine changes i.e. if it's not there anymore, out of stock, or if the description changes. Attributes would include: field change, old value, new value, date changed, etc\n",
    "\n",
    "Should this represent a SQL table? I should have classes that make use of relationships like foreign keys etc. e.g. I should have relational classes for grapes, regions, producers, scraped info (wine-searcher,vivino). But this could be a class for convenience and operational uses. "
   ]
  },
  {
   "cell_type": "code",
   "execution_count": 15,
   "metadata": {},
   "outputs": [],
   "source": [
    "\n",
    "class Wine():\n",
    "    name = ''\n",
    "    link = ''\n",
    "    price = 0.0\n",
    "    description = ''\n",
    "    date_collected = ''\n",
    "    image_link = ''\n",
    "    in_stock = True\n",
    "    \n",
    "    # remember that the attributes don't just reflect what's in our original CSV...\n",
    "    \n",
    "    #attributes derived from KCW csv\n",
    "    staff_pick = '' # the name of the person who picked it\n",
    "    search_terms = []\n",
    "    vintage = 0\n",
    "    size = 0.0\n",
    "    \n",
    "    # attributes scraped from other sources\n",
    "    # how should I handle multiple, potentially conflicting sources?\n",
    "    style = \"\" # red/white/sparkling etc. \n",
    "    grape = \"\" # references the grape class \n",
    "    blend = False # would be a list if applicibale\n",
    "    producer = '' # references winery class\n",
    "    region = \"\" # references the region class\n",
    "    taste = {\"tasting_notes\":[],\n",
    "            \"food_pairings\":[]}\n",
    "    aging = \"\" #oak vs steel\n",
    "    \n",
    "    def __init__(self,wine_name):\n",
    "        KCW_df = pd.read_csv('kings_county_wines.csv',index_col=0)\n",
    "        KCW_record = KCW_df.loc[KCW_df['name']=='Shiraz HP Hydraulic Press 2016 David Franz']\n",
    "        \n",
    "        "
   ]
  },
  {
   "cell_type": "code",
   "execution_count": 12,
   "metadata": {},
   "outputs": [],
   "source": [
    "class Grape():\n",
    "    color = \"\"\n",
    "    soil = \"\"\n",
    "    characteristics = []\n",
    "    climate = \"\"\n",
    "    \n",
    "    # should associated regions/wines come from our data or another source like wikipedia?\n",
    "    notable_regions = []\n",
    "    notable_wines = []\n",
    "    \n",
    "    "
   ]
  },
  {
   "cell_type": "code",
   "execution_count": 14,
   "metadata": {},
   "outputs": [],
   "source": [
    "class Region():\n",
    "    name = ''\n",
    "    country = ''\n",
    "    zone = ''\n",
    "    region = ''\n",
    "    \n",
    "    notable_wines = []"
   ]
  },
  {
   "cell_type": "code",
   "execution_count": 16,
   "metadata": {},
   "outputs": [],
   "source": [
    "class Winery():\n",
    "    name = ''\n",
    "    location = ''\n",
    "    "
   ]
  }
 ],
 "metadata": {
  "kernelspec": {
   "display_name": "Python 3",
   "language": "python",
   "name": "python3"
  },
  "language_info": {
   "codemirror_mode": {
    "name": "ipython",
    "version": 3
   },
   "file_extension": ".py",
   "mimetype": "text/x-python",
   "name": "python",
   "nbconvert_exporter": "python",
   "pygments_lexer": "ipython3",
   "version": "3.7.3"
  }
 },
 "nbformat": 4,
 "nbformat_minor": 4
}
