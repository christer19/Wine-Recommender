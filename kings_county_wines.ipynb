{
 "cells": [
  {
   "cell_type": "code",
   "execution_count": 33,
   "metadata": {},
   "outputs": [],
   "source": [
    "import pandas as pd\n",
    "import numpy as np"
   ]
  },
  {
   "cell_type": "code",
   "execution_count": 2,
   "metadata": {},
   "outputs": [
    {
     "name": "stdout",
     "output_type": "stream",
     "text": [
      "new page:  https://www.kingscountywines.com/wine/\n",
      "new page:  https://www.kingscountywines.com/wine/page2.html\n",
      "new page:  https://www.kingscountywines.com/wine/page3.html\n",
      "new page:  https://www.kingscountywines.com/wine/page4.html\n",
      "new page:  https://www.kingscountywines.com/wine/page5.html\n",
      "new page:  https://www.kingscountywines.com/wine/page6.html\n",
      "new page:  https://www.kingscountywines.com/wine/page7.html\n",
      "new page:  https://www.kingscountywines.com/wine/page8.html\n",
      "new page:  https://www.kingscountywines.com/wine/page9.html\n",
      "new page:  https://www.kingscountywines.com/wine/page10.html\n",
      "new page:  https://www.kingscountywines.com/wine/page11.html\n",
      "new page:  https://www.kingscountywines.com/wine/page12.html\n",
      "new page:  https://www.kingscountywines.com/wine/page13.html\n",
      "new page:  https://www.kingscountywines.com/wine/page14.html\n",
      "new page:  https://www.kingscountywines.com/wine/page15.html\n",
      "new page:  https://www.kingscountywines.com/wine/page16.html\n"
     ]
    }
   ],
   "source": [
    "## run the scraper and update the csv file for kings county wines\n",
    "\n",
    "from scraping import kings_county_scraper"
   ]
  },
  {
   "cell_type": "code",
   "execution_count": 20,
   "metadata": {},
   "outputs": [],
   "source": [
    "KCW_df = pd.read_csv('kings_county_wines.csv',index_col=0)"
   ]
  },
  {
   "cell_type": "code",
   "execution_count": 21,
   "metadata": {},
   "outputs": [
    {
     "data": {
      "text/html": [
       "<div>\n",
       "<style scoped>\n",
       "    .dataframe tbody tr th:only-of-type {\n",
       "        vertical-align: middle;\n",
       "    }\n",
       "\n",
       "    .dataframe tbody tr th {\n",
       "        vertical-align: top;\n",
       "    }\n",
       "\n",
       "    .dataframe thead th {\n",
       "        text-align: right;\n",
       "    }\n",
       "</style>\n",
       "<table border=\"1\" class=\"dataframe\">\n",
       "  <thead>\n",
       "    <tr style=\"text-align: right;\">\n",
       "      <th></th>\n",
       "      <th>name</th>\n",
       "      <th>link</th>\n",
       "      <th>price</th>\n",
       "      <th>description</th>\n",
       "      <th>date_collected</th>\n",
       "      <th>image_link</th>\n",
       "      <th>in_stock</th>\n",
       "      <th>details</th>\n",
       "    </tr>\n",
       "  </thead>\n",
       "  <tbody>\n",
       "    <tr>\n",
       "      <td>0</td>\n",
       "      <td>Sangria \"Limonada\" NV Palacio de Canedo</td>\n",
       "      <td>https://www.kingscountywines.com/sangria-limon...</td>\n",
       "      <td>14.99</td>\n",
       "      <td>Cinnamon &amp; lemons &amp; oranges &amp; mencia. A natura...</td>\n",
       "      <td>2020-02-05 14:35:30.639523</td>\n",
       "      <td>https://cdn.shoplightspeed.com/shops/603808/fi...</td>\n",
       "      <td>In stock</td>\n",
       "      <td>NaN</td>\n",
       "    </tr>\n",
       "    <tr>\n",
       "      <td>1</td>\n",
       "      <td>Rosso NV Paolo Palumbo</td>\n",
       "      <td>https://www.kingscountywines.com/rosso-2016-pa...</td>\n",
       "      <td>12.99</td>\n",
       "      <td>Soft and supple. The OG Neapolitan pizza wine.</td>\n",
       "      <td>2020-02-05 14:35:30.842275</td>\n",
       "      <td>https://cdn.shoplightspeed.com/shops/603808/fi...</td>\n",
       "      <td>In stock</td>\n",
       "      <td>NaN</td>\n",
       "    </tr>\n",
       "    <tr>\n",
       "      <td>2</td>\n",
       "      <td>Anjou Blanc 2018 Domaine de Clayou</td>\n",
       "      <td>https://www.kingscountywines.com/anjou-blanc-2...</td>\n",
       "      <td>14.99</td>\n",
       "      <td>Dry chenin. Orange flower, wintergreen, yellow...</td>\n",
       "      <td>2020-02-05 14:35:31.111292</td>\n",
       "      <td>https://cdn.shoplightspeed.com/shops/603808/fi...</td>\n",
       "      <td>In stock</td>\n",
       "      <td>NaN</td>\n",
       "    </tr>\n",
       "    <tr>\n",
       "      <td>3</td>\n",
       "      <td>Pinot Noir \"Golden\" 2017 Folktale*</td>\n",
       "      <td>https://www.kingscountywines.com/pinot-noir-20...</td>\n",
       "      <td>16.99</td>\n",
       "      <td>Estate fruit pinot noir, not too chunky, very ...</td>\n",
       "      <td>2020-02-05 14:35:31.302038</td>\n",
       "      <td>https://cdn.shoplightspeed.com/shops/603808/fi...</td>\n",
       "      <td>In stock</td>\n",
       "      <td>NaN</td>\n",
       "    </tr>\n",
       "    <tr>\n",
       "      <td>4</td>\n",
       "      <td>Shiraz HP Hydraulic Press 2016 David Franz</td>\n",
       "      <td>https://www.kingscountywines.com/shiraz-h-p-20...</td>\n",
       "      <td>25.99</td>\n",
       "      <td>Classic bold flavors; rare delicacy. Meaty, pl...</td>\n",
       "      <td>2020-02-05 14:35:31.522531</td>\n",
       "      <td>https://cdn.shoplightspeed.com/shops/603808/fi...</td>\n",
       "      <td>In stock</td>\n",
       "      <td>NaN</td>\n",
       "    </tr>\n",
       "  </tbody>\n",
       "</table>\n",
       "</div>"
      ],
      "text/plain": [
       "                                         name  \\\n",
       "0     Sangria \"Limonada\" NV Palacio de Canedo   \n",
       "1                      Rosso NV Paolo Palumbo   \n",
       "2          Anjou Blanc 2018 Domaine de Clayou   \n",
       "3          Pinot Noir \"Golden\" 2017 Folktale*   \n",
       "4  Shiraz HP Hydraulic Press 2016 David Franz   \n",
       "\n",
       "                                                link  price  \\\n",
       "0  https://www.kingscountywines.com/sangria-limon...  14.99   \n",
       "1  https://www.kingscountywines.com/rosso-2016-pa...  12.99   \n",
       "2  https://www.kingscountywines.com/anjou-blanc-2...  14.99   \n",
       "3  https://www.kingscountywines.com/pinot-noir-20...  16.99   \n",
       "4  https://www.kingscountywines.com/shiraz-h-p-20...  25.99   \n",
       "\n",
       "                                         description  \\\n",
       "0  Cinnamon & lemons & oranges & mencia. A natura...   \n",
       "1     Soft and supple. The OG Neapolitan pizza wine.   \n",
       "2  Dry chenin. Orange flower, wintergreen, yellow...   \n",
       "3  Estate fruit pinot noir, not too chunky, very ...   \n",
       "4  Classic bold flavors; rare delicacy. Meaty, pl...   \n",
       "\n",
       "               date_collected  \\\n",
       "0  2020-02-05 14:35:30.639523   \n",
       "1  2020-02-05 14:35:30.842275   \n",
       "2  2020-02-05 14:35:31.111292   \n",
       "3  2020-02-05 14:35:31.302038   \n",
       "4  2020-02-05 14:35:31.522531   \n",
       "\n",
       "                                          image_link  in_stock details  \n",
       "0  https://cdn.shoplightspeed.com/shops/603808/fi...  In stock     NaN  \n",
       "1  https://cdn.shoplightspeed.com/shops/603808/fi...  In stock     NaN  \n",
       "2  https://cdn.shoplightspeed.com/shops/603808/fi...  In stock     NaN  \n",
       "3  https://cdn.shoplightspeed.com/shops/603808/fi...  In stock     NaN  \n",
       "4  https://cdn.shoplightspeed.com/shops/603808/fi...  In stock     NaN  "
      ]
     },
     "execution_count": 21,
     "metadata": {},
     "output_type": "execute_result"
    }
   ],
   "source": [
    "KCW_df.head()"
   ]
  },
  {
   "cell_type": "markdown",
   "metadata": {},
   "source": [
    "### interpreting the datasset"
   ]
  },
  {
   "cell_type": "code",
   "execution_count": 22,
   "metadata": {},
   "outputs": [],
   "source": [
    "df = KCW_df.copy(deep=True)"
   ]
  },
  {
   "cell_type": "code",
   "execution_count": 43,
   "metadata": {},
   "outputs": [
    {
     "data": {
      "text/html": [
       "<div>\n",
       "<style scoped>\n",
       "    .dataframe tbody tr th:only-of-type {\n",
       "        vertical-align: middle;\n",
       "    }\n",
       "\n",
       "    .dataframe tbody tr th {\n",
       "        vertical-align: top;\n",
       "    }\n",
       "\n",
       "    .dataframe thead th {\n",
       "        text-align: right;\n",
       "    }\n",
       "</style>\n",
       "<table border=\"1\" class=\"dataframe\">\n",
       "  <thead>\n",
       "    <tr style=\"text-align: right;\">\n",
       "      <th></th>\n",
       "      <th>name</th>\n",
       "      <th>link</th>\n",
       "      <th>price</th>\n",
       "      <th>description</th>\n",
       "      <th>date_collected</th>\n",
       "      <th>image_link</th>\n",
       "      <th>in_stock</th>\n",
       "      <th>details</th>\n",
       "    </tr>\n",
       "  </thead>\n",
       "  <tbody>\n",
       "    <tr>\n",
       "      <td>0</td>\n",
       "      <td>Sangria \"Limonada\" NV Palacio de Canedo</td>\n",
       "      <td>https://www.kingscountywines.com/sangria-limon...</td>\n",
       "      <td>14.99</td>\n",
       "      <td>Cinnamon &amp; lemons &amp; oranges &amp; mencia. A natura...</td>\n",
       "      <td>2020-02-05 14:35:30.639523</td>\n",
       "      <td>https://cdn.shoplightspeed.com/shops/603808/fi...</td>\n",
       "      <td>In stock</td>\n",
       "      <td>NaN</td>\n",
       "    </tr>\n",
       "    <tr>\n",
       "      <td>1</td>\n",
       "      <td>Rosso NV Paolo Palumbo</td>\n",
       "      <td>https://www.kingscountywines.com/rosso-2016-pa...</td>\n",
       "      <td>12.99</td>\n",
       "      <td>Soft and supple. The OG Neapolitan pizza wine.</td>\n",
       "      <td>2020-02-05 14:35:30.842275</td>\n",
       "      <td>https://cdn.shoplightspeed.com/shops/603808/fi...</td>\n",
       "      <td>In stock</td>\n",
       "      <td>NaN</td>\n",
       "    </tr>\n",
       "    <tr>\n",
       "      <td>2</td>\n",
       "      <td>Anjou Blanc 2018 Domaine de Clayou</td>\n",
       "      <td>https://www.kingscountywines.com/anjou-blanc-2...</td>\n",
       "      <td>14.99</td>\n",
       "      <td>Dry chenin. Orange flower, wintergreen, yellow...</td>\n",
       "      <td>2020-02-05 14:35:31.111292</td>\n",
       "      <td>https://cdn.shoplightspeed.com/shops/603808/fi...</td>\n",
       "      <td>In stock</td>\n",
       "      <td>NaN</td>\n",
       "    </tr>\n",
       "    <tr>\n",
       "      <td>3</td>\n",
       "      <td>Pinot Noir \"Golden\" 2017 Folktale*</td>\n",
       "      <td>https://www.kingscountywines.com/pinot-noir-20...</td>\n",
       "      <td>16.99</td>\n",
       "      <td>Estate fruit pinot noir, not too chunky, very ...</td>\n",
       "      <td>2020-02-05 14:35:31.302038</td>\n",
       "      <td>https://cdn.shoplightspeed.com/shops/603808/fi...</td>\n",
       "      <td>In stock</td>\n",
       "      <td>NaN</td>\n",
       "    </tr>\n",
       "    <tr>\n",
       "      <td>4</td>\n",
       "      <td>Shiraz HP Hydraulic Press 2016 David Franz</td>\n",
       "      <td>https://www.kingscountywines.com/shiraz-h-p-20...</td>\n",
       "      <td>25.99</td>\n",
       "      <td>Classic bold flavors; rare delicacy. Meaty, pl...</td>\n",
       "      <td>2020-02-05 14:35:31.522531</td>\n",
       "      <td>https://cdn.shoplightspeed.com/shops/603808/fi...</td>\n",
       "      <td>In stock</td>\n",
       "      <td>NaN</td>\n",
       "    </tr>\n",
       "  </tbody>\n",
       "</table>\n",
       "</div>"
      ],
      "text/plain": [
       "                                         name  \\\n",
       "0     Sangria \"Limonada\" NV Palacio de Canedo   \n",
       "1                      Rosso NV Paolo Palumbo   \n",
       "2          Anjou Blanc 2018 Domaine de Clayou   \n",
       "3          Pinot Noir \"Golden\" 2017 Folktale*   \n",
       "4  Shiraz HP Hydraulic Press 2016 David Franz   \n",
       "\n",
       "                                                link  price  \\\n",
       "0  https://www.kingscountywines.com/sangria-limon...  14.99   \n",
       "1  https://www.kingscountywines.com/rosso-2016-pa...  12.99   \n",
       "2  https://www.kingscountywines.com/anjou-blanc-2...  14.99   \n",
       "3  https://www.kingscountywines.com/pinot-noir-20...  16.99   \n",
       "4  https://www.kingscountywines.com/shiraz-h-p-20...  25.99   \n",
       "\n",
       "                                         description  \\\n",
       "0  Cinnamon & lemons & oranges & mencia. A natura...   \n",
       "1     Soft and supple. The OG Neapolitan pizza wine.   \n",
       "2  Dry chenin. Orange flower, wintergreen, yellow...   \n",
       "3  Estate fruit pinot noir, not too chunky, very ...   \n",
       "4  Classic bold flavors; rare delicacy. Meaty, pl...   \n",
       "\n",
       "               date_collected  \\\n",
       "0  2020-02-05 14:35:30.639523   \n",
       "1  2020-02-05 14:35:30.842275   \n",
       "2  2020-02-05 14:35:31.111292   \n",
       "3  2020-02-05 14:35:31.302038   \n",
       "4  2020-02-05 14:35:31.522531   \n",
       "\n",
       "                                          image_link  in_stock details  \n",
       "0  https://cdn.shoplightspeed.com/shops/603808/fi...  In stock     NaN  \n",
       "1  https://cdn.shoplightspeed.com/shops/603808/fi...  In stock     NaN  \n",
       "2  https://cdn.shoplightspeed.com/shops/603808/fi...  In stock     NaN  \n",
       "3  https://cdn.shoplightspeed.com/shops/603808/fi...  In stock     NaN  \n",
       "4  https://cdn.shoplightspeed.com/shops/603808/fi...  In stock     NaN  "
      ]
     },
     "execution_count": 43,
     "metadata": {},
     "output_type": "execute_result"
    }
   ],
   "source": [
    "df.head()"
   ]
  },
  {
   "cell_type": "code",
   "execution_count": 70,
   "metadata": {},
   "outputs": [],
   "source": [
    "def detail_description_confusion(row):\n",
    "    \"\"\"\n",
    "    there was one instance in my first shot at this where the wine description was mistakenly put in the details column.\n",
    "    This function will check if the description column is null and the details column is not null. if that's the case, \n",
    "    the description column will be imputed with the details column.\n",
    "    \"\"\"\n",
    "    if type(row['description']) == float: #i.e. if description is null\n",
    "        return row['details'] # if description is null, impute the details for the description value\n",
    "    else:\n",
    "        return row['description']"
   ]
  },
  {
   "cell_type": "code",
   "execution_count": 71,
   "metadata": {},
   "outputs": [],
   "source": [
    "df['description'] = df.apply((lambda x: detail_description_confusion(x)),axis=1)"
   ]
  },
  {
   "cell_type": "code",
   "execution_count": 79,
   "metadata": {},
   "outputs": [],
   "source": [
    "details =df[df['details'].isna()==False]['details']"
   ]
  },
  {
   "cell_type": "code",
   "execution_count": 78,
   "metadata": {},
   "outputs": [
    {
     "data": {
      "text/plain": [
       "name                                           Brut Rosé 2016 Murgo\n",
       "link              https://www.kingscountywines.com/copy-of-etna-...\n",
       "price                                                         22.99\n",
       "description       Rosé of nerello from volcanic Etna. Salty stra...\n",
       "date_collected                           2020-02-05 14:36:11.597454\n",
       "image_link        https://cdn.shoplightspeed.com/shops/603808/fi...\n",
       "in_stock                                                   In stock\n",
       "details           100% Nerello Mascalese from the dramatic slope...\n",
       "Name: 145, dtype: object"
      ]
     },
     "execution_count": 78,
     "metadata": {},
     "output_type": "execute_result"
    }
   ],
   "source": [
    "df.iloc[145]"
   ]
  },
  {
   "cell_type": "code",
   "execution_count": 82,
   "metadata": {},
   "outputs": [
    {
     "name": "stdout",
     "output_type": "stream",
     "text": [
      "False\n",
      "False\n",
      "True\n",
      "True\n",
      "True\n",
      "True\n"
     ]
    }
   ],
   "source": [
    "for detail in details:\n",
    "    print(\"STAFF PICK\" in detail)"
   ]
  },
  {
   "cell_type": "code",
   "execution_count": null,
   "metadata": {},
   "outputs": [],
   "source": []
  }
 ],
 "metadata": {
  "kernelspec": {
   "display_name": "Python 3",
   "language": "python",
   "name": "python3"
  },
  "language_info": {
   "codemirror_mode": {
    "name": "ipython",
    "version": 3
   },
   "file_extension": ".py",
   "mimetype": "text/x-python",
   "name": "python",
   "nbconvert_exporter": "python",
   "pygments_lexer": "ipython3",
   "version": "3.7.3"
  }
 },
 "nbformat": 4,
 "nbformat_minor": 4
}
