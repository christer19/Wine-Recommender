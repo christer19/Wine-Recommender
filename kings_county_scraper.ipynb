{
 "cells": [
  {
   "cell_type": "code",
   "execution_count": 1,
   "metadata": {},
   "outputs": [],
   "source": [
    "import requests\n",
    "from bs4 import BeautifulSoup"
   ]
  },
  {
   "cell_type": "code",
   "execution_count": 195,
   "metadata": {},
   "outputs": [],
   "source": [
    "def getWines(url):\n",
    "    \"\"\"\n",
    "    take in a kingscountywines.com url and return the products listed on the page.\n",
    "    \"\"\"\n",
    "    page = requests.get(url)\n",
    "\n",
    "    bs = BeautifulSoup(page.content)\n",
    "\n",
    "    wine_images = bs.find_all(attrs={'class':'image-wrap'})\n",
    "\n",
    "    wines = [x.find('a')['title'] for x in wine_images]\n",
    "    next_page = bs.find('ul',{\"class\":\"right no-list-style\"}).find('li',{'class':'next'}).a['href']\n",
    "    if next_page==\"https://www.kingscountywines.com/\":\n",
    "        return wines\n",
    "    else:\n",
    "        wines.append(getWines(next_page))"
   ]
  },
  {
   "cell_type": "code",
   "execution_count": 196,
   "metadata": {},
   "outputs": [],
   "source": [
    "getWines('https://www.kingscountywines.com/wine/page15.html')"
   ]
  },
  {
   "cell_type": "code",
   "execution_count": 100,
   "metadata": {},
   "outputs": [],
   "source": [
    "def getURLs():\n",
    "    \"\"\"\n",
    "    This function goes to the Kings County Wines Wine page and gets the URLs that we'll need to scrape.\n",
    "    \"\"\"\n",
    "    url = \"https://www.kingscountywines.com/wine/\"\n",
    "    page = requests.get(url)\n",
    "\n",
    "    bs = BeautifulSoup(page.content)\n",
    "\n",
    "    urls = bs.find(attrs={'class':'right no-list-style'}).find_all('a')\n",
    "\n",
    "    urls = [x['href'] for x in urls]\n",
    "    \n",
    "    return urls"
   ]
  },
  {
   "cell_type": "code",
   "execution_count": 101,
   "metadata": {},
   "outputs": [
    {
     "data": {
      "text/plain": [
       "['https://www.kingscountywines.com/wine/page15.html',\n",
       " 'https://www.kingscountywines.com/wine/',\n",
       " 'https://www.kingscountywines.com/wine/page12.html',\n",
       " 'https://www.kingscountywines.com/wine/page13.html',\n",
       " 'https://www.kingscountywines.com/wine/page14.html',\n",
       " 'https://www.kingscountywines.com/wine/page15.html',\n",
       " 'https://www.kingscountywines.com/wine/page16.html',\n",
       " 'https://www.kingscountywines.com/']"
      ]
     },
     "execution_count": 101,
     "metadata": {},
     "output_type": "execute_result"
    }
   ],
   "source": [
    "getURLs()"
   ]
  },
  {
   "cell_type": "code",
   "execution_count": 158,
   "metadata": {},
   "outputs": [],
   "source": [
    "page = requests.get(\"https://www.kingscountywines.com/wine/\")\n",
    "bs = BeautifulSoup(page.content)"
   ]
  },
  {
   "cell_type": "code",
   "execution_count": 159,
   "metadata": {},
   "outputs": [
    {
     "name": "stdout",
     "output_type": "stream",
     "text": [
      "\n",
      "\n",
      "<li class=\"number active\"><a href=\"https://www.kingscountywines.com/wine/\">1</a></li>\n",
      "\n",
      "\n",
      "<li class=\"number\"><a href=\"https://www.kingscountywines.com/wine/page2.html\">2</a></li>\n",
      "\n",
      "\n",
      "<li class=\"number\"><a href=\"https://www.kingscountywines.com/wine/page3.html\">3</a></li>\n",
      "\n",
      "\n",
      "<li class=\"number\"><a href=\"https://www.kingscountywines.com/wine/page4.html\">4</a></li>\n",
      "\n",
      "\n",
      "<li class=\"number\"><a href=\"https://www.kingscountywines.com/wine/page5.html\">5</a></li>\n",
      "\n",
      "\n",
      "<li class=\"number\"><a href=\"https://www.kingscountywines.com/wine/page16.html\">16</a></li>\n",
      "\n",
      "\n",
      "<li class=\"next\"><a href=\"https://www.kingscountywines.com/wine/page2.html\" title=\"Next page\"><span class=\"glyphicon glyphicon-chevron-right\"></span></a></li>\n",
      "\n",
      "\n"
     ]
    }
   ],
   "source": [
    "for child in bs.find('ul',{\"class\":\"right no-list-style\"}).li.next_siblings:\n",
    "    print(child)"
   ]
  },
  {
   "cell_type": "code",
   "execution_count": 160,
   "metadata": {},
   "outputs": [
    {
     "data": {
      "text/plain": [
       "'https://www.kingscountywines.com/wine/page2.html'"
      ]
     },
     "execution_count": 160,
     "metadata": {},
     "output_type": "execute_result"
    }
   ],
   "source": [
    "bs.find('ul',{\"class\":\"right no-list-style\"}).find('li',{'class':'next'}).a['href']"
   ]
  },
  {
   "cell_type": "code",
   "execution_count": 172,
   "metadata": {},
   "outputs": [],
   "source": [
    "def get_allWines(url=\"https://www.kingscountywines.com/wine/\"):\n",
    "    wines = []\n",
    "    page = requests.get(url)\n",
    "    bs = BeautifulSoup(page.content)\n",
    "    wines.append(getWines(url))\n",
    "    next_page = bs.find('ul',{\"class\":\"right no-list-style\"}).find('li',{'class':'next'}).a['href']\n",
    "    \n",
    "    if next_page == 'https://www.kingscountywines.com/':\n",
    "        return wines\n",
    "    elif next_page == None:\n",
    "        pass\n",
    "    else:\n",
    "        wines.append(getWines(next_page))\n",
    "        get_allWines(next_page)"
   ]
  },
  {
   "cell_type": "code",
   "execution_count": 173,
   "metadata": {},
   "outputs": [],
   "source": [
    "get_allWines()"
   ]
  },
  {
   "cell_type": "code",
   "execution_count": null,
   "metadata": {},
   "outputs": [],
   "source": []
  }
 ],
 "metadata": {
  "kernelspec": {
   "display_name": "Python 3",
   "language": "python",
   "name": "python3"
  },
  "language_info": {
   "codemirror_mode": {
    "name": "ipython",
    "version": 3
   },
   "file_extension": ".py",
   "mimetype": "text/x-python",
   "name": "python",
   "nbconvert_exporter": "python",
   "pygments_lexer": "ipython3",
   "version": "3.7.3"
  }
 },
 "nbformat": 4,
 "nbformat_minor": 4
}
