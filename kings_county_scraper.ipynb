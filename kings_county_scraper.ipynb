{
 "cells": [
  {
   "cell_type": "code",
   "execution_count": 1,
   "metadata": {},
   "outputs": [],
   "source": [
    "import requests\n",
    "from bs4 import BeautifulSoup"
   ]
  },
  {
   "cell_type": "code",
   "execution_count": 87,
   "metadata": {},
   "outputs": [],
   "source": [
    "def kings_county_wines(page_no=0):\n",
    "    \n",
    "    wines = []\n",
    "    if page_no ==0:\n",
    "        url = \"https://www.kingscountywines.com/wine/\"\n",
    "        page = requests.get(url)\n",
    "\n",
    "        bs = BeautifulSoup(page.content)\n",
    "\n",
    "        wine_images = bs.find_all(attrs={'class':'image-wrap'})\n",
    "\n",
    "        page_wines = [x.find('a')['title'] for x in wine_images]\n",
    "        wines.append(page_wines)\n",
    "        page_no +=1\n",
    "    else:\n",
    "        url = f\"https://www.kingscountywines.com/wine/page{page_no}.html\"\n",
    "        page = requests.get(url)\n",
    "\n",
    "        bs = BeautifulSoup(page.content)\n",
    "\n",
    "        wine_images = bs.find_all(attrs={'class':'image-wrap'})\n",
    "\n",
    "        page_wines = [x.find('a')['title'] for x in wine_images]\n",
    "        wines.append(page_wines)\n",
    "\n",
    "    #more_urls = bs.find(attrs={'class':'right no-list-style'}).find_all('a')\n",
    "\n",
    "    #more_urls = [x['href'] for x in more_urls]\n",
    "    \n",
    "    return wines"
   ]
  },
  {
   "cell_type": "code",
   "execution_count": 88,
   "metadata": {},
   "outputs": [],
   "source": [
    "wines = kings_county_wines()"
   ]
  },
  {
   "cell_type": "code",
   "execution_count": 89,
   "metadata": {},
   "outputs": [
    {
     "data": {
      "text/plain": [
       "[['Autour du Pigionnier 2016 Benoit Roseau',\n",
       "  'Bordeaux Rouge 2017 Peybonhomme-les-Tours',\n",
       "  'Pet-Nat Orbis Moderandi 2019 OCD',\n",
       "  'Vino Rosso 1L 2018 Gatto Grosso',\n",
       "  'Nardo Rosso Roccamora 2016 Schola Sarmenti',\n",
       "  'Champagne Extra Brut NV Besserat de Bellfon',\n",
       "  'Chiroubles \"Les Gatilles\" 2017 Javernand',\n",
       "  'Minervois Blanc \"Champ du Roy\" 2018 Coupe-Roses',\n",
       "  \"Imereti 2018 Amiran's Wine Cellar\",\n",
       "  'Red Field Blend 2018 Source & Sink',\n",
       "  'Côte de Brouilly \"Cuvée Le Loup\" 2017 Grand Pré',\n",
       "  'Chianti Classico Gran Selezione 2015 Montefili',\n",
       "  'Toscana Rosato 2018 Montefili',\n",
       "  'Duas Vinhas 2012 Antonio Pereira',\n",
       "  'Naturalmente Frizzante Bianco 2018 Casa Belfi',\n",
       "  'Malbec/Cabernet Franc Reserva 2017 Viñalba',\n",
       "  'Barolo 2015 Reverdito',\n",
       "  \"Nebbiolo d'Alba 2016 Antica Cascina Conti\",\n",
       "  'Chianti Classico 2017 Montefili',\n",
       "  \"Frappato 2018 Valle dell'Acate\",\n",
       "  'Torrontes 2019 Dos Minas',\n",
       "  'Riesling Trocken 2018 Peter Jakob Kuhn',\n",
       "  'Etna Rosso \"La Vigna di Gioacchino\" 2018 Sofia',\n",
       "  'Pais Viejo 2018 J. Bouchon']]"
      ]
     },
     "execution_count": 89,
     "metadata": {},
     "output_type": "execute_result"
    }
   ],
   "source": [
    "wines"
   ]
  },
  {
   "cell_type": "code",
   "execution_count": 69,
   "metadata": {},
   "outputs": [],
   "source": [
    "import re\n",
    "test_string='https://www.kingscountywines.com/wine/page2.html'"
   ]
  },
  {
   "cell_type": "code",
   "execution_count": 82,
   "metadata": {},
   "outputs": [
    {
     "data": {
      "text/plain": [
       "['',\n",
       " '',\n",
       " 'page2.html',\n",
       " 'page3.html',\n",
       " 'page4.html',\n",
       " 'page5.html',\n",
       " 'page16.html',\n",
       " 'page2.html']"
      ]
     },
     "execution_count": 82,
     "metadata": {},
     "output_type": "execute_result"
    }
   ],
   "source": [
    "[x.partition('/wine/')[-1] for x in more_urls if]"
   ]
  },
  {
   "cell_type": "code",
   "execution_count": 67,
   "metadata": {},
   "outputs": [],
   "source": [
    "match"
   ]
  },
  {
   "cell_type": "code",
   "execution_count": null,
   "metadata": {},
   "outputs": [],
   "source": []
  }
 ],
 "metadata": {
  "kernelspec": {
   "display_name": "Python 3",
   "language": "python",
   "name": "python3"
  },
  "language_info": {
   "codemirror_mode": {
    "name": "ipython",
    "version": 3
   },
   "file_extension": ".py",
   "mimetype": "text/x-python",
   "name": "python",
   "nbconvert_exporter": "python",
   "pygments_lexer": "ipython3",
   "version": "3.7.3"
  }
 },
 "nbformat": 4,
 "nbformat_minor": 4
}
